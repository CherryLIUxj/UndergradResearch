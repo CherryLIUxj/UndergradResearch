{
 "cells": [
  {
   "cell_type": "code",
   "execution_count": 2,
   "id": "b70c5b9d",
   "metadata": {},
   "outputs": [],
   "source": [
    "import numpy as np\n",
    "import pandas as pd"
   ]
  },
  {
   "cell_type": "code",
   "execution_count": 3,
   "id": "e19b4bd7",
   "metadata": {},
   "outputs": [
    {
     "name": "stdout",
     "output_type": "stream",
     "text": [
      "     abav  errabav      rb     rbsfd\n",
      "g   1.155    0.009  3.5805  3.079230\n",
      "r   0.843    0.006  2.6133  2.247438\n",
      "i   0.628    0.004  1.9468  1.674248\n",
      "z   0.487    0.003  1.5097  1.298342\n",
      "y   0.395    0.003  1.2245  1.053070\n",
      "J   0.235    0.004  0.7285  0.626510\n",
      "H   0.135    0.006  0.4185  0.359910\n",
      "K   0.073    0.004  0.2263  0.194618\n",
      "w1  0.039    0.004  0.1209  0.103974\n",
      "w2  0.026    0.004  0.0806  0.069316\n"
     ]
    }
   ],
   "source": [
    "bands = ['g', 'r', 'i', 'z', 'y', \n",
    "         'J', 'H', 'K', \n",
    "         'w1', 'w2']\n",
    "abav = np.array([1.155, 0.843, 0.628, 0.487, 0.395, \n",
    "                 0.235, 0.135, 0.073, \n",
    "                 0.039, 0.026])  # A_{b}/A_{V}\n",
    "errabav = np.array([0.009, 0.006, 0.004, 0.003, 0.003,\n",
    "                    0.004, 0.006, 0.004, \n",
    "                    0.004, 0.004])\n",
    "rb = abav * 3.1\n",
    "rbsfd = rb * 0.86\n",
    "ec = pd.DataFrame({'abav': abav, 'errabav': errabav,\n",
    "                   'rb': rb, 'rbsfd': rbsfd}, index=bands)\n",
    "print(ec)\n",
    "# print(ec['rb']['g'])"
   ]
  },
  {
   "cell_type": "code",
   "execution_count": null,
   "id": "d299174d",
   "metadata": {},
   "outputs": [],
   "source": [
    "ec.to_csv('extcoefUKIDSS.csv')"
   ]
  }
 ],
 "metadata": {
  "kernelspec": {
   "display_name": "Python 3",
   "language": "python",
   "name": "python3"
  },
  "language_info": {
   "codemirror_mode": {
    "name": "ipython",
    "version": 3
   },
   "file_extension": ".py",
   "mimetype": "text/x-python",
   "name": "python",
   "nbconvert_exporter": "python",
   "pygments_lexer": "ipython3",
   "version": "3.8.8"
  }
 },
 "nbformat": 4,
 "nbformat_minor": 5
}
