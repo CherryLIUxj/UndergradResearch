{
 "cells": [
  {
   "cell_type": "code",
   "execution_count": 1,
   "id": "896e77b6",
   "metadata": {},
   "outputs": [],
   "source": [
    "# import pandas as pd\n",
    "import matplotlib.pyplot as plt\n",
    "import numpy as np\n",
    "import astropy.units as u\n",
    "from matplotlib import mlab\n",
    "from astropy.io import fits\n",
    "from astropy.coordinates import SkyCoord\n",
    "from dustmaps.planck import PlanckGNILCQuery\n",
    "from pathlib import Path\n",
    "from astropy.table import Table\n",
    "import pandas as pd\n"
   ]
  },
  {
   "cell_type": "code",
   "execution_count": 2,
   "id": "8d26f8cf",
   "metadata": {},
   "outputs": [],
   "source": [
    "outpath = './output/'\n",
    "Path(outpath).mkdir(exist_ok=True)"
   ]
  },
  {
   "cell_type": "code",
   "execution_count": 3,
   "id": "b8c5b6ef",
   "metadata": {},
   "outputs": [],
   "source": [
    "def _check_range(rng, allowed):\n",
    "    if rng is None:\n",
    "        rng = allowed\n",
    "    else:\n",
    "        if not hasattr(rng, '__len__'):\n",
    "            raise ValueError(\"range object does not have len() method\")\n",
    "\n",
    "        if rng[0] < allowed[0] or rng[1] > allowed[1]:\n",
    "            raise ValueError(\"lon_range should be within [%s,%s]\" % allowed)\n",
    "    return rng\n",
    "\n",
    "\n",
    "def randsphere(num, ra_range=None, dec_range=None, system='eq'):\n",
    "    \"\"\"\n",
    "    Generate random points on the sphere\n",
    "    You can limit the range in ra and dec.  To generate on a spherical cap, see\n",
    "    randcap()\n",
    "    parameters\n",
    "    ----------\n",
    "    num: integer\n",
    "        The number of randoms to generate\n",
    "    ra_range: list, optional\n",
    "        Should be within range [0,360].  Default [0,360]\n",
    "    dec_range: list, optional\n",
    "        Should be within range [-90,90].  Default [-90,90]\n",
    "    system: string\n",
    "        Default is 'eq' for the ra-dec system.  Can also be 'xyz'.\n",
    "    output\n",
    "    ------\n",
    "        for system == 'eq' the return is a tuple\n",
    "            ra,dec = randsphere(...)\n",
    "        for system == 'xyz' the return is a tuple\n",
    "            x,y,z = randsphere(...)\n",
    "    examples\n",
    "    --------\n",
    "        ra,dec = randsphere(2000, ra_range=[10,35], dec_range=[-25,15])\n",
    "        x,y,z = randsphere(2000, system='xyz')\n",
    "    \"\"\"\n",
    "\n",
    "    ra_range = _check_range(ra_range, [0.0, 360.0])\n",
    "    dec_range = _check_range(dec_range, [-90.0, 90.0])\n",
    "\n",
    "    ra = np.random.random(num)  # 0-1之间的随机数array\n",
    "    ra *= (ra_range[1] - ra_range[0])\n",
    "    if ra_range[0] > 0:\n",
    "        ra += ra_range[0]\n",
    "\n",
    "    # number [-1,1)\n",
    "    cosdec_min = np.cos(np.deg2rad(90.0 + dec_range[0]))\n",
    "    cosdec_max = np.cos(np.deg2rad(90.0 + dec_range[1]))\n",
    "    v = np.random.random(num)\n",
    "    v *= (cosdec_max - cosdec_min)\n",
    "    v += cosdec_min\n",
    "\n",
    "    np.clip(v, -1.0, 1.0, v)\n",
    "    # Now this generates on [0,pi)\n",
    "    dec = np.arccos(v)\n",
    "    # convert to degrees\n",
    "    # rad2deg(dec,dec)\n",
    "    dec = np.rad2deg(dec)\n",
    "    # now in range [-90,90.0)\n",
    "    dec -= 90.0\n",
    "\n",
    "    c1 = SkyCoord(ra=ra * u.degree, dec=dec * u.degree, frame='icrs')\n",
    "    c2 = SkyCoord(l=ra * u.degree, b=dec * u.degree, frame='galactic')\n",
    "    # if system == 'xyz':\n",
    "    #     # x,y,z = eq2xyz(ra, dec)\n",
    "    #     # return x,y,z\n",
    "    #     return ra, dec\n",
    "    # else:\n",
    "    #     return ra, dec\n",
    "#    return ra, dec\n",
    "    if system == 'gal':\n",
    "        return c2\n",
    "    else:\n",
    "        return c1"
   ]
  },
  {
   "cell_type": "code",
   "execution_count": null,
   "id": "4d5ad030",
   "metadata": {},
   "outputs": [],
   "source": []
  },
  {
   "cell_type": "code",
   "execution_count": null,
   "id": "ab0373fc",
   "metadata": {},
   "outputs": [],
   "source": []
  },
  {
   "cell_type": "code",
   "execution_count": 4,
   "id": "0c9b781a",
   "metadata": {},
   "outputs": [
    {
     "data": {
      "text/plain": [
       "21.6263008117676"
      ]
     },
     "execution_count": 4,
     "metadata": {},
     "output_type": "execute_result"
    }
   ],
   "source": [
    "df0_good = pd.read_csv('/cargo/public/catdata/gpq_nir/goodqso.csv')\n",
    "df0_good.ip.max()"
   ]
  },
  {
   "cell_type": "code",
   "execution_count": 5,
   "id": "07b01c26",
   "metadata": {},
   "outputs": [
    {
     "data": {
      "text/plain": [
       "175175"
      ]
     },
     "execution_count": 5,
     "metadata": {},
     "output_type": "execute_result"
    }
   ],
   "source": [
    "mockGPQ_sum = len(df0_good)\n",
    "mockGPQ_sum"
   ]
  },
  {
   "cell_type": "code",
   "execution_count": 6,
   "id": "e0bddc47",
   "metadata": {},
   "outputs": [],
   "source": [
    "planck = PlanckGNILCQuery()\n",
    "\n",
    "\n",
    "ectb = pd.read_csv('extcoefUKIDSS.csv', index_col=0)\n",
    "ec = ectb['rb']  # 消光系数\n",
    "bands = ['gp', 'rp', 'ip', 'zp', 'yp',\n",
    "         'yap', 'jap', 'hap','kap','yab','jab','hab','kab',\n",
    "         'w1vega', 'w2vega', 'w1ab','w2ab']"
   ]
  },
  {
   "cell_type": "code",
   "execution_count": 7,
   "id": "23c9048c",
   "metadata": {},
   "outputs": [
    {
     "data": {
      "text/plain": [
       "Index(['Unnamed: 0', 'source_id', 'ra', 'dec', 'redshift_qsoc', 'snrW1pm',\n",
       "       'snrW2pm', 'w1vega', 'w2vega', 'gp', 'rp', 'ip', 'zp', 'yp',\n",
       "       'g_mean_psf_mag_error', 'r_mean_psf_mag_error', 'i_mean_psf_mag_error',\n",
       "       'z_mean_psf_mag_error', 'y_mean_psf_mag_error', 'yap', 'jap', 'hap',\n",
       "       'kap', 'yAperMag3Err', 'j_1AperMag3Err', 'hAperMag3Err', 'kAperMag3Err',\n",
       "       'pmRA_x', 'pmDE', 'e_pmRA', 'e_pmDE', 'l', 'b', 'w1ab', 'w2ab', 'yab',\n",
       "       'jab', 'hab', 'kab', 'o_ra', 'o_dec', 'o_l', 'o_b', 'o_g', 'o_r', 'o_i',\n",
       "       'o_z', 'o_y', 'o_yap', 'o_jap', 'o_hap', 'o_kap', 'o_jab', 'o_hab',\n",
       "       'o_kab', 'o_w1vega', 'o_w2vega', 'o_w1ab', 'o_w2ab', 'o_ebv', 'Z_DR16Q',\n",
       "       'EBV', 'e_gmag', 'e_rmag', 'e_imag', 'e_zmag', 'e_ymag', 'pmRA_s',\n",
       "       'pmDE_s', 'e_pmRA_s', 'e_pmDE_s', 'dgp', 'drp', 'dip', 'dzp', 'dyp',\n",
       "       'dyap', 'djap', 'dhap', 'dkap', 'dyab', 'djab', 'dhab', 'dkab',\n",
       "       'dw1vega', 'dw2vega', 'dw1ab', 'dw2ab'],\n",
       "      dtype='object')"
      ]
     },
     "execution_count": 7,
     "metadata": {},
     "output_type": "execute_result"
    }
   ],
   "source": [
    "df0_good.columns"
   ]
  },
  {
   "cell_type": "markdown",
   "id": "d2969fcc",
   "metadata": {},
   "source": [
    "# 做模拟（无放回）"
   ]
  },
  {
   "cell_type": "code",
   "execution_count": 8,
   "id": "3e70e8ad",
   "metadata": {},
   "outputs": [],
   "source": [
    "class mocking:\n",
    "    \n",
    "    def __init__(self):\n",
    "        self.selected = None\n",
    "        self.unselected = None\n",
    "        self.unselected_input = None\n",
    "        self.selection_rate = 0\n",
    "        self.selection_rate_average = 0\n",
    "        self.selection_rate_list = []\n",
    "        self.num_of_good = 0\n",
    "        self.round = 0\n",
    "        self.check = []\n",
    "        self.input_list = []\n",
    "        self.round_flag = 0\n",
    "        \n",
    "    def selectgood(self,not_selected=None, rounds=10):\n",
    "        np.random.seed(self.round+1000)  # 每一轮模拟用不同的随机数种子\n",
    "        self.round_flag=rounds\n",
    "        \n",
    "        if not_selected is not None:\n",
    "            self.unselected = not_selected.copy()\n",
    "            \n",
    "        df_good = self.unselected.copy()\n",
    "\n",
    "        # 设置随机位置(ra,dec,ebv)\n",
    "        c = randsphere(len(df_good), [0.0, 360.0], [-5,5], system='gal')\n",
    "        ceq = c.transform_to('icrs')\n",
    "        ebv = planck(ceq)  \n",
    "        \n",
    "        df_good['ra'] = ceq.ra.deg\n",
    "        df_good['dec'] = ceq.dec.deg\n",
    "        df_good['l'] = c.l.deg\n",
    "        df_good['b'] = c.b.deg\n",
    "        df_good['ebv'] = ebv\n",
    "\n",
    "        for b in bands:  # 加上指定位置处的消光后的星等:b\n",
    "            db = 'd' + b\n",
    "            if b[0] == 'g' or  b[0] == 'r' or b[0] == 'i' or b[0] == 'z' or b[0] == 'y' :\n",
    "                df_good[b] = df_good[db] + df_good['ebv'] * ec[b[0]]  \n",
    "            if b[0] == 'j' or  b[0] == 'h' or  b[0] == 'k':\n",
    "                df_good[b] = df_good[db] + df_good['ebv'] * ec[b[0].upper()]                                        \n",
    "            if b[0] == 'w':\n",
    "                df_good[b] = df_good[db] + df_good['ebv'] * ec[b[0].upper()+b[1]]\n",
    "        \n",
    "        \n",
    "        df2 = df_good.query(\"ip <= 23.1\\\n",
    "            and zp <= 22.3\\\n",
    "            and yp <= 21.3\\\n",
    "            and jap<= 19.8\")\n",
    "        \n",
    "                \n",
    "        self.unselected = df_good.drop(list(df2.index.values))\n",
    "        self.input_list.append(self.unselected)\n",
    "        \n",
    "        self.selection_rate += len(df2)/mockGPQ_sum\n",
    "        self.selection_rate_average += len(df2)/len(df_good)\n",
    "        self.selection_rate_list.append(len(df2)/len(df_good))\n",
    "        self.num_of_good += len(df2)\n",
    "        self.round += 1\n",
    "        \n",
    "      \n",
    "        if self.round < rounds:\n",
    "            if self.round == 1:\n",
    "                self.selected = df2\n",
    "                print(self.selection_rate)                \n",
    "            else:\n",
    "                temp = self.selected\n",
    "                self.selected = pd.concat([temp,df2],sort=False)\n",
    "                # sort是用来sort column的排列顺序 不是用来sort index\n",
    "                print(self.selection_rate)\n",
    "                \n",
    "            self.selectgood(rounds=self.round_flag)\n",
    "            \n",
    "        else:\n",
    "            temp = self.selected\n",
    "            self.selected = pd.concat([temp,df2],sort=False)\n",
    "            self.selected.to_csv(outpath+'GoodMockGPQNIR_recycle_'+str()+'.csv', index=False)\n",
    "            #self.selected.to_csv(outpath+'GoodMockGPQNIR_loopMocking_0.9.csv', index=False)\n",
    "            print('MockGPQNIR number: {},\\n'\n",
    "                  'GoodMockGPQNIR number: {},\\n'\n",
    "                  'The average of selection rate is {},\\n'\n",
    "                  'Total selection rate:{},\\n'\n",
    "                  'Total rounds of mocking:{}.'.format(mockGPQ_sum, self.num_of_good,\n",
    "                                                       self.selection_rate_average/self.round, \n",
    "                                                       self.selection_rate,self.round))\n",
    "            \n",
    "            return 0\n",
    "                "
   ]
  },
  {
   "cell_type": "code",
   "execution_count": 9,
   "id": "a14de21b",
   "metadata": {},
   "outputs": [
    {
     "name": "stdout",
     "output_type": "stream",
     "text": [
      "0.5096503496503496\n",
      "0.7039075210503781\n",
      "0.7933323819038104\n",
      "0.8391265876980162\n",
      "0.8663165406022548\n",
      "0.8846068217496789\n",
      "0.8970800627943485\n",
      "0.9062309119451977\n",
      "0.9135150563721992\n",
      "MockGPQNIR number: 175175,\n",
      "GoodMockGPQNIR number: 161021,\n",
      "The average of selection rate is 0.20756737954379384,\n",
      "Total selection rate:0.9192007992007992,\n",
      "Total rounds of mocking:10.\n"
     ]
    }
   ],
   "source": [
    "# PlanckGNILCQuery\n",
    "mockQSO =  mocking()\n",
    "mockQSO.selectgood(not_selected=df0_good, rounds=10)"
   ]
  },
  {
   "cell_type": "code",
   "execution_count": 9,
   "id": "64523482",
   "metadata": {
    "scrolled": true
   },
   "outputs": [
    {
     "name": "stdout",
     "output_type": "stream",
     "text": [
      "0.5493363779078064\n",
      "0.758430141287284\n",
      "0.8484658198943912\n",
      "0.8910004281432852\n",
      "0.9151819608962465\n",
      "0.9288882546025402\n",
      "0.9380448123305265\n",
      "0.9447238475809904\n",
      "0.9495190523761952\n",
      "MockGPQNIR number: 175175,\n",
      "GoodMockGPQNIR number: 166988,\n",
      "The average of selection rate is 0.24476552812392036,\n",
      "Total selection rate:0.9532638789781647,\n",
      "Total rounds of mocking:10.\n"
     ]
    }
   ],
   "source": [
    "# PlanckQuery\n",
    "# mockQSO =  mocking()\n",
    "# mockQSO.selectgood(not_selected=df0_good, rounds=10)"
   ]
  },
  {
   "cell_type": "code",
   "execution_count": null,
   "id": "6a066609",
   "metadata": {},
   "outputs": [],
   "source": []
  },
  {
   "cell_type": "code",
   "execution_count": null,
   "id": "560720f3",
   "metadata": {},
   "outputs": [],
   "source": []
  },
  {
   "cell_type": "code",
   "execution_count": null,
   "id": "feaf93a6",
   "metadata": {},
   "outputs": [],
   "source": []
  },
  {
   "cell_type": "code",
   "execution_count": 63,
   "id": "6c5908cf",
   "metadata": {},
   "outputs": [
    {
     "data": {
      "text/plain": [
       "21.4538993835449"
      ]
     },
     "execution_count": 63,
     "metadata": {},
     "output_type": "execute_result"
    }
   ],
   "source": [
    "mockQSO.input_list[0]['o_i'].max()"
   ]
  },
  {
   "cell_type": "code",
   "execution_count": 73,
   "id": "bea478dc",
   "metadata": {},
   "outputs": [],
   "source": [
    "import matplotlib\n",
    "matplotlib.rcParams['mathtext.fontset'] = 'stix'\n",
    "matplotlib.rcParams['font.serif'] = ['Times New Roman']\n",
    "matplotlib.rcParams['xtick.direction'] = 'in'\n",
    "matplotlib.rcParams['ytick.direction'] = 'in'\n",
    "\n",
    "plt.rcParams[\"figure.figsize\"] = (5,3) # 调整图片尺寸\n",
    "plt.rcParams[\"figure.dpi\"] = 120 # 提高图片分辨率"
   ]
  },
  {
   "cell_type": "code",
   "execution_count": 93,
   "id": "5a523751",
   "metadata": {},
   "outputs": [
    {
     "data": {
      "text/plain": [
       "<matplotlib.legend.Legend at 0x7f62b739d040>"
      ]
     },
     "execution_count": 93,
     "metadata": {},
     "output_type": "execute_result"
    },
    {
     "data": {
      "image/png": "[encoded data removed]",
      "text/plain": [
       "<Figure size 600x360 with 1 Axes>"
      ]
     },
     "metadata": {
      "needs_background": "light"
     },
     "output_type": "display_data"
    }
   ],
   "source": [
    "x = [i for i in range(19)]\n",
    "y1 = [mockQSO.input_list[i]['o_i'].median() for i in range(19)]\n",
    "y2 = [mockQSO.input_list[i]['o_z'].median() for i in range(19)]\n",
    "y3 = [mockQSO.input_list[i]['o_y'].median() for i in range(19)]\n",
    "y4 = [mockQSO.input_list[i]['o_jab'].median() for i in range(19)]\n",
    "plt.plot(x,y1,label='o_ip')\n",
    "plt.plot(x,y2,label='o_zp')\n",
    "plt.plot(x,y3,label='o_yp')\n",
    "plt.plot(x,y4,label='o_jab')\n",
    "plt.xticks([0,2,4,6,8,10,12,14,16,18,20])\n",
    "plt.xlabel('round')\n",
    "plt.ylabel('magnitude')\n",
    "plt.legend()"
   ]
  },
  {
   "cell_type": "code",
   "execution_count": 90,
   "id": "86a8d574",
   "metadata": {},
   "outputs": [
    {
     "data": {
      "text/plain": [
       "Text(0, 0.5, 'selection_rate of each round')"
      ]
     },
     "execution_count": 90,
     "metadata": {},
     "output_type": "execute_result"
    },
    {
     "data": {
      "image/png": "[encoded data removed]",
      "text/plain": [
       "<Figure size 600x360 with 1 Axes>"
      ]
     },
     "metadata": {
      "needs_background": "light"
     },
     "output_type": "display_data"
    }
   ],
   "source": [
    "x = [i for i in range(20)]\n",
    "y = mockQSO.selection_rate_list\n",
    "plt.plot(x,y)\n",
    "plt.xticks([0,2,4,6,8,10,12,14,16,18,20])\n",
    "plt.xlabel('round')\n",
    "plt.ylabel('selection_rate of each round')"
   ]
  },
  {
   "cell_type": "code",
   "execution_count": null,
   "id": "7cfb8013",
   "metadata": {},
   "outputs": [],
   "source": []
  },
  {
   "cell_type": "code",
   "execution_count": 11,
   "id": "b290f154",
   "metadata": {},
   "outputs": [
    {
     "name": "stdout",
     "output_type": "stream",
     "text": [
      "[array([0.12898829, 0.46115618, 0.41615393, 0.60272423, 0.18306805,\n",
      "       0.41791271]), array([0.12898829, 0.46115618, 0.41615393, 0.60272423, 0.18306805]), array([0.12898829, 0.46115618, 0.41615393, 0.60272423]), array([0.12898829, 0.46115618, 0.41615393])]\n"
     ]
    }
   ],
   "source": [
    "# test of random seed\n",
    "class loop:\n",
    "    def __init__(self):\n",
    "        self.round = 0\n",
    "        self.list = []\n",
    "    def test(self):\n",
    "        np.random.seed(1002)\n",
    "        a = np.random.random(6-self.round)\n",
    "        self.list.append(a)\n",
    "        self.round += 1\n",
    "        if self.round < 4:\n",
    "            self.test()\n",
    "        else:\n",
    "            print(self.list)\n",
    "            return 0\n",
    "loop = loop()\n",
    "loop.test()"
   ]
  },
  {
   "cell_type": "code",
   "execution_count": null,
   "id": "7a234d8a",
   "metadata": {},
   "outputs": [],
   "source": []
  }
 ],
 "metadata": {
  "kernelspec": {
   "display_name": "Python 3",
   "language": "python",
   "name": "python3"
  },
  "language_info": {
   "codemirror_mode": {
    "name": "ipython",
    "version": 3
   },
   "file_extension": ".py",
   "mimetype": "text/x-python",
   "name": "python",
   "nbconvert_exporter": "python",
   "pygments_lexer": "ipython3",
   "version": "3.8.8"
  }
 },
 "nbformat": 4,
 "nbformat_minor": 5
}
