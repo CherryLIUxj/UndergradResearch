{
 "cells": [
  {
   "cell_type": "code",
   "execution_count": 2,
   "id": "29793aad",
   "metadata": {},
   "outputs": [],
   "source": [
    "from astropy.table import Table\n",
    "import pandas as pd\n",
    "import numpy as np\n",
    "\n",
    "import matplotlib.pyplot as plt"
   ]
  },
  {
   "cell_type": "code",
   "execution_count": 3,
   "id": "583e80fe",
   "metadata": {},
   "outputs": [],
   "source": [
    "tb1 = Table.read('/cargo/public/catdata/ml_train/dwarf/jdli21.fits',character_as_bytes=False)\n",
    "df1 = tb1.to_pandas()\n",
    "\n",
    "tb2 = Table.read('/cargo/public/catdata/ml_train/dwarf/Kirkpatrick_2019_TY.fit',character_as_bytes=False)\n",
    "df2 = tb2.to_pandas()\n",
    "\n",
    "tb3 = Table.read('/cargo/public/catdata/ml_train/dwarf/Lamost_ultralcool_dwarf.fits',character_as_bytes=False)\n",
    "df3 = tb3.to_pandas()\n",
    "\n",
    "tb4 = Table.read('/cargo/public/catdata/ml_train/dwarf/svo_late_type_subdwarf.fits',character_as_bytes=False)\n",
    "df4 = tb4.to_pandas()\n",
    "\n",
    "tb5 = Table.read('/cargo/public/catdata/ml_train/dwarf/ucd_ps1-result.fits',character_as_bytes=False)\n",
    "df5 = tb5.to_pandas()\n",
    "\n",
    "tb6 = Table.read('/cargo/public/catdata/ml_train/dwarf/West_2011_SDSS_M_Dwarf.fit',character_as_bytes=False)\n",
    "df6 = tb6.to_pandas()\n",
    "\n",
    "tb7 = Table.read('/cargo/public/catdata/ml_train/dwarf/ZhangZH_2018_L_subdwarf_tb7_pscoord.fits',character_as_bytes=False)\n",
    "df7 = tb7.to_pandas()"
   ]
  },
  {
   "cell_type": "code",
   "execution_count": 17,
   "id": "487d08fc",
   "metadata": {},
   "outputs": [],
   "source": [
    "df1_ = df1.rename(columns={'ra_obs':'ra','dec_obs':'dec'})\n",
    "df2_ = df2.rename(columns={'_RAJ2000':'ra','_DEJ2000':'dec'})\n",
    "df3_ = df3.rename(columns={'RAdeg':'ra','DEdeg':'dec'})\n",
    "df4_ = df4.rename(columns={'RA':'ra','DEC':'dec'})\n",
    "df6_ = df6.rename(columns={'RAJ2000':'ra','DEJ2000':'dec'})\n",
    "df7_ = df7.rename(columns={'ra_ps':'ra','dec_ps':'dec'})\n"
   ]
  },
  {
   "cell_type": "code",
   "execution_count": 23,
   "id": "6e164a00",
   "metadata": {},
   "outputs": [
    {
     "data": {
      "text/html": [
       "<div>\n",
       "<style scoped>\n",
       "    .dataframe tbody tr th:only-of-type {\n",
       "        vertical-align: middle;\n",
       "    }\n",
       "\n",
       "    .dataframe tbody tr th {\n",
       "        vertical-align: top;\n",
       "    }\n",
       "\n",
       "    .dataframe thead th {\n",
       "        text-align: right;\n",
       "    }\n",
       "</style>\n",
       "<table border=\"1\" class=\"dataframe\">\n",
       "  <thead>\n",
       "    <tr style=\"text-align: right;\">\n",
       "      <th></th>\n",
       "      <th>ra</th>\n",
       "      <th>dec</th>\n",
       "    </tr>\n",
       "  </thead>\n",
       "  <tbody>\n",
       "    <tr>\n",
       "      <th>0</th>\n",
       "      <td>44.972425</td>\n",
       "      <td>0.238048</td>\n",
       "    </tr>\n",
       "    <tr>\n",
       "      <th>1</th>\n",
       "      <td>45.447768</td>\n",
       "      <td>0.688631</td>\n",
       "    </tr>\n",
       "    <tr>\n",
       "      <th>2</th>\n",
       "      <td>45.333593</td>\n",
       "      <td>0.806613</td>\n",
       "    </tr>\n",
       "    <tr>\n",
       "      <th>3</th>\n",
       "      <td>44.673272</td>\n",
       "      <td>0.442654</td>\n",
       "    </tr>\n",
       "    <tr>\n",
       "      <th>4</th>\n",
       "      <td>44.650587</td>\n",
       "      <td>0.595016</td>\n",
       "    </tr>\n",
       "    <tr>\n",
       "      <th>...</th>\n",
       "      <td>...</td>\n",
       "      <td>...</td>\n",
       "    </tr>\n",
       "    <tr>\n",
       "      <th>331360</th>\n",
       "      <td>276.536576</td>\n",
       "      <td>30.236253</td>\n",
       "    </tr>\n",
       "    <tr>\n",
       "      <th>331361</th>\n",
       "      <td>338.669939</td>\n",
       "      <td>0.167246</td>\n",
       "    </tr>\n",
       "    <tr>\n",
       "      <th>331362</th>\n",
       "      <td>344.758943</td>\n",
       "      <td>11.933832</td>\n",
       "    </tr>\n",
       "    <tr>\n",
       "      <th>331363</th>\n",
       "      <td>345.735530</td>\n",
       "      <td>12.219441</td>\n",
       "    </tr>\n",
       "    <tr>\n",
       "      <th>331364</th>\n",
       "      <td>346.180439</td>\n",
       "      <td>9.573298</td>\n",
       "    </tr>\n",
       "  </tbody>\n",
       "</table>\n",
       "<p>331365 rows × 2 columns</p>\n",
       "</div>"
      ],
      "text/plain": [
       "                ra        dec\n",
       "0        44.972425   0.238048\n",
       "1        45.447768   0.688631\n",
       "2        45.333593   0.806613\n",
       "3        44.673272   0.442654\n",
       "4        44.650587   0.595016\n",
       "...            ...        ...\n",
       "331360  276.536576  30.236253\n",
       "331361  338.669939   0.167246\n",
       "331362  344.758943  11.933832\n",
       "331363  345.735530  12.219441\n",
       "331364  346.180439   9.573298\n",
       "\n",
       "[331365 rows x 2 columns]"
      ]
     },
     "execution_count": 23,
     "metadata": {},
     "output_type": "execute_result"
    }
   ],
   "source": [
    "temp = pd.concat([df1_[['ra','dec']], df2_[['ra','dec']]])\n",
    "temp = pd.concat([temp, df3_[['ra','dec']]])\n",
    "temp = pd.concat([temp,df4_[['ra','dec']]])\n",
    "temp = pd.concat([temp,df5[['ra','dec']]])\n",
    "temp = pd.concat([temp,df6_[['ra','dec']]])\n",
    "df = pd.concat([temp,df7_[['ra','dec']]])\n",
    "df.reset_index(drop=True,inplace=True)\n",
    "df\n",
    "                           "
   ]
  },
  {
   "cell_type": "code",
   "execution_count": 24,
   "id": "4d8fecb4",
   "metadata": {},
   "outputs": [],
   "source": [
    "df.to_csv('dwarfs.csv',index=False)"
   ]
  },
  {
   "cell_type": "code",
   "execution_count": 32,
   "id": "7546a288",
   "metadata": {},
   "outputs": [],
   "source": [
    "from astropy.coordinates import SkyCoord\n",
    "import astropy.units as u\n",
    "\n",
    "\n",
    "coord = SkyCoord(ra=df.ra.values*u.deg,\n",
    "                 dec=df.dec.values*u.deg,\n",
    "                 frame='icrs')\n",
    "df['l'] = coord.galactic.l.deg\n",
    "df['b'] = coord.galactic.b.deg"
   ]
  },
  {
   "cell_type": "code",
   "execution_count": 34,
   "id": "e247f558",
   "metadata": {},
   "outputs": [
    {
     "data": {
      "text/plain": [
       "<AxesSubplot:>"
      ]
     },
     "execution_count": 34,
     "metadata": {},
     "output_type": "execute_result"
    },
    {
     "data": {
      "image/png": "[encoded data removed]",
      "text/plain": [
       "<Figure size 432x288 with 1 Axes>"
      ]
     },
     "metadata": {
      "needs_background": "light"
     },
     "output_type": "display_data"
    }
   ],
   "source": [
    "df.b.hist()"
   ]
  },
  {
   "cell_type": "code",
   "execution_count": null,
   "id": "08d3c612",
   "metadata": {},
   "outputs": [],
   "source": [
    "# topcat和ps1 las cat交叉。las用3 arcsec，ps1和cat用1 arcsec"
   ]
  },
  {
   "cell_type": "code",
   "execution_count": 26,
   "id": "1bd848e9",
   "metadata": {},
   "outputs": [],
   "source": [
    "df1 = pd.read_csv('/cargo/public/catdata/ml_train/dwarf/dwarfsxps1xlasxcat.csv')"
   ]
  },
  {
   "cell_type": "code",
   "execution_count": 35,
   "id": "adcf2a16",
   "metadata": {},
   "outputs": [],
   "source": [
    "coord = SkyCoord(ra=df1.ra.values*u.deg,\n",
    "                 dec=df1.dec.values*u.deg,\n",
    "                 frame='icrs')\n",
    "df1['l'] = coord.galactic.l.deg\n",
    "df1['b'] = coord.galactic.b.deg"
   ]
  },
  {
   "cell_type": "code",
   "execution_count": 37,
   "id": "32dbaad1",
   "metadata": {},
   "outputs": [
    {
     "data": {
      "text/plain": [
       "<AxesSubplot:>"
      ]
     },
     "execution_count": 37,
     "metadata": {},
     "output_type": "execute_result"
    },
    {
     "data": {
      "image/png": "[encoded data removed]",
      "text/plain": [
       "<Figure size 432x288 with 1 Axes>"
      ]
     },
     "metadata": {
      "needs_background": "light"
     },
     "output_type": "display_data"
    }
   ],
   "source": [
    "df1.b.hist()"
   ]
  },
  {
   "cell_type": "code",
   "execution_count": null,
   "id": "5672a65c",
   "metadata": {},
   "outputs": [],
   "source": [
    "'source_id', 'ra', 'dec', 'w1ab', 'w2ab', 'gp', 'rp', 'ip', 'zp', 'yp',\n",
    "       'jab', 'hab', 'kab', 'class'"
   ]
  },
  {
   "cell_type": "code",
   "execution_count": 29,
   "id": "8d3255c8",
   "metadata": {
    "scrolled": true
   },
   "outputs": [
    {
     "name": "stdout",
     "output_type": "stream",
     "text": [
      "ra\n",
      "dec\n",
      "objID\n",
      "RAJ2000\n",
      "DEJ2000\n",
      "errHalfMaj\n",
      "errHalfMin\n",
      "errPosAng\n",
      "f_objID\n",
      "Qual\n",
      "Epoch\n",
      "Ns\n",
      "Nd\n",
      "gmag\n",
      "e_gmag\n",
      "gKmag\n",
      "e_gKmag\n",
      "gFlags\n",
      "rmag\n",
      "e_rmag\n",
      "rKmag\n",
      "e_rKmag\n",
      "rFlags\n",
      "imag\n",
      "e_imag\n",
      "iKmag\n",
      "e_iKmag\n",
      "iFlags\n",
      "zmag\n",
      "e_zmag\n",
      "zKmag\n",
      "e_zKmag\n",
      "zFlags\n",
      "ymag\n",
      "e_ymag\n",
      "yKmag\n",
      "e_yKmag\n",
      "yFlags\n",
      "angDist\n",
      "JName\n",
      "ra_x\n",
      "dec_x\n",
      "yAperMag3\n",
      "j_1AperMag3\n",
      "hAperMag3\n",
      "kAperMag3\n",
      "yAperMag3Err\n",
      "j_1AperMag3Err\n",
      "hAperMag3Err\n",
      "kAperMag3Err\n",
      "sourceID\n",
      "mode\n",
      "epoch_x\n",
      "mergedClass\n",
      "angDist_x\n",
      "objID_x\n",
      "RAdeg\n",
      "DEdeg\n",
      "errHalfMaj_x\n",
      "errHalfMin_x\n",
      "errPosAng_x\n",
      "Name\n",
      "e_RAdeg\n",
      "e_DEdeg\n",
      "ePos\n",
      "nW1\n",
      "mW1\n",
      "nW2\n",
      "mW2\n",
      "MJD\n",
      "RAPMdeg\n",
      "DEPMdeg\n",
      "e_RAPMdeg\n",
      "e_DEPMdeg\n",
      "ePosPM\n",
      "pmRA\n",
      "pmDE\n",
      "e_pmRA\n",
      "e_pmDE\n",
      "snrW1pm\n",
      "snrW2pm\n",
      "FW1pm\n",
      "e_FW1pm\n",
      "FW2pm\n",
      "e_FW2pm\n",
      "W1mproPM\n",
      "e_W1mproPM\n",
      "W2mproPM\n",
      "e_W2mproPM\n",
      "pmQual\n",
      "Dist\n",
      "chi2pmRA\n",
      "chi2pmDE\n",
      "ka\n",
      "k1\n",
      "k2\n",
      "km\n",
      "plx1\n",
      "e_plx1\n",
      "plx2\n",
      "e_plx2\n",
      "Sep\n",
      "ccf\n",
      "abfl\n",
      "angDist_xa\n"
     ]
    }
   ],
   "source": [
    "for x in df1.columns:\n",
    "    print(x)"
   ]
  },
  {
   "cell_type": "code",
   "execution_count": null,
   "id": "4b5f7ba3",
   "metadata": {},
   "outputs": [],
   "source": []
  },
  {
   "cell_type": "code",
   "execution_count": 44,
   "id": "9883c32f",
   "metadata": {},
   "outputs": [
    {
     "name": "stderr",
     "output_type": "stream",
     "text": [
      "/opt/anaconda3/lib/python3.8/site-packages/pandas/core/frame.py:4441: SettingWithCopyWarning: \n",
      "A value is trying to be set on a copy of a slice from a DataFrame\n",
      "\n",
      "See the caveats in the documentation: https://pandas.pydata.org/pandas-docs/stable/user_guide/indexing.html#returning-a-view-versus-a-copy\n",
      "  return super().rename(\n"
     ]
    }
   ],
   "source": [
    "df1_select = df1[['ra','dec','gmag','e_gmag','rmag','e_rmag','imag','e_imag','zmag','e_zmag','ymag','e_ymag','j_1AperMag3','j_1AperMag3Err',\n",
    "                'hAperMag3','hAperMag3Err','kAperMag3','kAperMag3Err',\n",
    "                 'W1mproPM','e_W1mproPM','W2mproPM','e_W2mproPM','snrW1pm','snrW2pm']]\n",
    "\n",
    "df1_select.rename(columns={'imag':'ip'},inplace=True)\n",
    "\n",
    "df1_good = df1_select.query(\"snrW1pm > 5 and snrW2pm > 3\\\n",
    "and W1mproPM > 8 and W2mproPM > 7\\\n",
    "and ip > 14\\\n",
    "and zmag > 0\\\n",
    "and ymag > 0\\\n",
    "and j_1AperMag3Err < 0.2171\\\n",
    "and e_imag < 0.2171\")\n",
    "\n",
    "df1_good.rename(columns={'gmag':'gp','rmag':'rp', 'zmag':'zp','ymag':'yp',\n",
    "                         'j_1AperMag3':'jap','hAperMag3':'hap','kAperMag3':'kap',\n",
    "                        'W1mproPM':'w1vega','W2mproPM':'w2vega'},inplace=True)\n",
    "\n",
    "df1_good.eval('w1ab=w1vega+2.699',inplace=True)\n",
    "df1_good.eval('w2ab=w2vega+3.339',inplace=True)\n",
    "df1_good.eval('jab=jap+0.938',inplace=True)\n",
    "df1_good.eval('hab=hap+1.379',inplace=True)\n",
    "df1_good.eval('kab=kap+1.900',inplace=True)\n",
    "                            \n",
    "                            \n",
    "df2_good = df1_good.query(\"ip <= 23.1\\\n",
    "            and zp <= 22.3\\\n",
    "            and yp <= 21.3\\\n",
    "            and jap<= 19.8\")\n",
    "df2_good.reset_index(inplace=True, drop=True)\n",
    "\n",
    "df3 = df2_good[['ra', 'dec', 'w1ab', 'w2ab', 'gp', 'rp', 'ip', 'zp', 'yp', 'jab', 'hab','kab' ]]"
   ]
  },
  {
   "cell_type": "code",
   "execution_count": 46,
   "id": "6e887c3d",
   "metadata": {},
   "outputs": [],
   "source": [
    "df3.to_csv('/cargo/public/catdata/ml_train/dwarf_sample.csv',index=False)"
   ]
  },
  {
   "cell_type": "code",
   "execution_count": 47,
   "id": "67913a15",
   "metadata": {},
   "outputs": [
    {
     "data": {
      "text/plain": [
       "(69994, 12)"
      ]
     },
     "execution_count": 47,
     "metadata": {},
     "output_type": "execute_result"
    }
   ],
   "source": [
    "df3.shape"
   ]
  },
  {
   "cell_type": "code",
   "execution_count": null,
   "id": "9ab7264f",
   "metadata": {},
   "outputs": [],
   "source": []
  },
  {
   "cell_type": "code",
   "execution_count": null,
   "id": "e2cfaae9",
   "metadata": {},
   "outputs": [],
   "source": []
  }
 ],
 "metadata": {
  "kernelspec": {
   "display_name": "Python 3",
   "language": "python",
   "name": "python3"
  },
  "language_info": {
   "codemirror_mode": {
    "name": "ipython",
    "version": 3
   },
   "file_extension": ".py",
   "mimetype": "text/x-python",
   "name": "python",
   "nbconvert_exporter": "python",
   "pygments_lexer": "ipython3",
   "version": "3.8.8"
  }
 },
 "nbformat": 4,
 "nbformat_minor": 5
}
